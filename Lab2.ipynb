{
  "nbformat": 4,
  "nbformat_minor": 0,
  "metadata": {
    "colab": {
      "name": "Lab2.ipynb",
      "provenance": [],
      "collapsed_sections": []
    },
    "kernelspec": {
      "name": "python3",
      "display_name": "Python 3"
    },
    "language_info": {
      "name": "python"
    }
  },
  "cells": [
    {
      "cell_type": "code",
      "metadata": {
        "id": "2pQT5-vHXSLy"
      },
      "source": [
        "import numpy as np\n",
        "import statistics as st\n",
        "import scipy as stats"
      ],
      "execution_count": 1,
      "outputs": []
    },
    {
      "cell_type": "code",
      "metadata": {
        "colab": {
          "base_uri": "https://localhost:8080/"
        },
        "id": "5n9RqicYXmbP",
        "outputId": "2c6ea2e9-de04-4ed4-e55d-dd1d02037171"
      },
      "source": [
        "#1. Find arithmetic mean of 20, 2, 7, 1, 34\n",
        "A = [20,2,7,1,34]\n",
        "print(\"Arthmetic Mean of Array: \" + str(np.mean(A)))\n",
        "A1 = np.array([20,2,7,1,34])\n",
        "print(np.mean(A1))\n",
        "print(st.mean(A1))"
      ],
      "execution_count": 6,
      "outputs": [
        {
          "output_type": "stream",
          "name": "stdout",
          "text": [
            "Arthmetic Mean of Array: 12.8\n",
            "12.8\n",
            "12\n"
          ]
        }
      ]
    },
    {
      "cell_type": "code",
      "metadata": {
        "colab": {
          "base_uri": "https://localhost:8080/"
        },
        "id": "Tho_ig4SYq4X",
        "outputId": "febf2001-2f9c-4d3c-85cc-e0d62f29adc7"
      },
      "source": [
        "# 2. Create following matrix using multidimensional array and calculate arithmetic mean for each column, each row and considering entire data.\n",
        "# 14 17 12 33 44  \n",
        "# 15  6 27  8 19 \n",
        "# 23  2 54  1 4 \n",
        "B = np.array([[14,17,12,33,44],[15,6,27,8,19],[23,2,54,1,4]])\n",
        "print(B)\n",
        "print(\"Columnwise representation of the Mean of the row: \" + str(np.mean(B, axis = 0)))\n",
        "print(\"Rowwise representation of the Mean of the row: \" + str(np.mean(B, axis = 1)))\n",
        "print(np.mean(B))\n"
      ],
      "execution_count": 14,
      "outputs": [
        {
          "output_type": "stream",
          "name": "stdout",
          "text": [
            "[[14 17 12 33 44]\n",
            " [15  6 27  8 19]\n",
            " [23  2 54  1  4]]\n",
            "Columnwise representation of the Mean of the row: [17.33333333  8.33333333 31.         14.         22.33333333]\n",
            "Rowwise representation of the Mean of the row: [24.  15.  16.8]\n",
            "18.6\n"
          ]
        }
      ]
    },
    {
      "cell_type": "code",
      "metadata": {
        "colab": {
          "base_uri": "https://localhost:8080/"
        },
        "id": "ah-klAKRbuSE",
        "outputId": "8bc91bfa-c9f5-4e0b-c9d4-e33c0351bfbd"
      },
      "source": [
        "# 3. Find minimum value, maximum value and range for entire data, column wise and row wise.\n",
        "# 3,7,5\n",
        "# 8,4,3\n",
        "# 2,4,9\n",
        "C = np.array([[3,7,5],[8,4,3],[2,4,9]])\n",
        "print(C)\n",
        "print(np.min(C))\n",
        "print(np.min(C,axis = 0))\n",
        "print(np.min(C,axis = 1))\n",
        "print(np.max(C))\n",
        "print(np.max(C,axis = 0))\n",
        "print(np.max(C,axis = 1))"
      ],
      "execution_count": 20,
      "outputs": [
        {
          "output_type": "stream",
          "name": "stdout",
          "text": [
            "[[3 7 5]\n",
            " [8 4 3]\n",
            " [2 4 9]]\n",
            "2\n",
            "[2 4 3]\n",
            "[3 3 2]\n",
            "9\n",
            "[8 7 9]\n",
            "[7 8 9]\n"
          ]
        }
      ]
    },
    {
      "cell_type": "code",
      "metadata": {
        "id": "We_m63E2dTEz"
      },
      "source": [
        "# 4. Find weighted average for the data given below.\n",
        "# Outcomes\tFrequency\n",
        "# 1\t4\n",
        "# 2\t3\n",
        "# 3\t2\n",
        "# 4\t1\n",
        "X = np.array([1,2,3,4])\n",
        "W = np.array([4,3,2,1])\n",
        "print(\"The Weighted Average of the given Data = \" + str(np.average(X, weights=)) )"
      ],
      "execution_count": null,
      "outputs": []
    },
    {
      "cell_type": "code",
      "metadata": {
        "colab": {
          "base_uri": "https://localhost:8080/"
        },
        "id": "wiXllEOzeYRr",
        "outputId": "beb7f001-cf81-40d9-f6c7-b2cb0be807a1"
      },
      "source": [
        "# 5. The speed of 13 vehicles is 99,86,87,88,111,86,103,87,94,78,77,85,86\n",
        "# Find mean, median and mode.\n",
        "\n",
        "Speed = np.array([99,86,87,88,111,86,103,87,94,78,77,85,86])\n",
        "print(\"Arithematic Mean of the Speed: \"+ str(np.mean(Speed)))\n",
        "print(\"Median of the Speed: \" + str(np.median(Speed)))\n",
        "from scipy import stats\n",
        "print(\"Mode of Speeds\" + str(stats.mode(Speed)))"
      ],
      "execution_count": 28,
      "outputs": [
        {
          "output_type": "stream",
          "name": "stdout",
          "text": [
            "Arithematic Mean of the Speed: 89.76923076923077\n",
            "Median of the Speed: 87.0\n",
            "Mode of SpeedsModeResult(mode=array([86]), count=array([3]))\n"
          ]
        }
      ]
    },
    {
      "cell_type": "code",
      "metadata": {
        "colab": {
          "base_uri": "https://localhost:8080/"
        },
        "id": "rOBrgvmWf1pW",
        "outputId": "8632c635-5d22-4f3d-b1db-f90f9a58b7d0"
      },
      "source": [
        "# 6. Calculate geometric mean for each column, each row and considering entire data.\n",
        "# 1 3 27\n",
        "# 3 4 6\n",
        "# 7 6 3\n",
        "# 3 6 8\n",
        "from scipy.stats.mstats import gmean\n",
        "M = np.array([[1,3,27],[3,4,6],[7,6,3],[3,6,8]])\n",
        "print(\"Geometric Mean of the entire matrix M = \" + str(gmean(gmean(M))))\n",
        "print(\"Geometric Mean of the entire Column matrix M = \" + str(gmean(gmean(M, axis = 0))))\n",
        "print(\"Geometric Mean of the entire Row matrix M = \" + str(gmean(gmean(M, axis = 1))))"
      ],
      "execution_count": 32,
      "outputs": [
        {
          "output_type": "stream",
          "name": "stdout",
          "text": [
            "Geometric Mean of the entire matrix M = 4.663506066439651\n",
            "Geometric Mean of the entire Column matrix M = 4.663506066439651\n",
            "Geometric Mean of the entire Row matrix M = 4.663506066439651\n"
          ]
        }
      ]
    },
    {
      "cell_type": "code",
      "metadata": {
        "colab": {
          "base_uri": "https://localhost:8080/"
        },
        "id": "jXQMkxq_haok",
        "outputId": "db4c9b66-9646-489d-940d-0ab5e197299a"
      },
      "source": [
        "# 7. Calculate harmonic mean for 1, 3, 5, 7, 9\n",
        "from scipy.stats.mstats import hmean\n",
        "H = np.array([1, 3, 5, 7, 9])\n",
        "print(\"Harmonic Mean is \"+ str(hmean(H)))"
      ],
      "execution_count": 33,
      "outputs": [
        {
          "output_type": "stream",
          "name": "stdout",
          "text": [
            "Harmonic Mean is 2.797513321492007\n"
          ]
        }
      ]
    },
    {
      "cell_type": "code",
      "metadata": {
        "id": "ZHQuxxcji617"
      },
      "source": [
        "# 8. Calculate median for each column, each row and considering entire data.\n",
        "# 30 65 70\n",
        "# 80 95 10\n",
        "# 50 90 60\n"
      ],
      "execution_count": null,
      "outputs": []
    },
    {
      "cell_type": "code",
      "metadata": {
        "colab": {
          "base_uri": "https://localhost:8080/"
        },
        "id": "K5XpmA2MjBF7",
        "outputId": "c0f9ee86-5f4f-4cbc-f64e-89e5dae09820"
      },
      "source": [
        "# 9. Its way too big____\n",
        "A = np.array([[0,0.99,2,0],[1,1.99,4,0],[2,2.99,6,0],[3,3.99,7,0]])\n",
        "print(np.__version__)\n",
        "print(F)\n",
        "print(\"Mean of the entire Matrix A: \" + str(np.median(A)))\n",
        "print(\"Columnwise Mean of the entire Matrix A: \" + str(np.median(A, axis= 0)))\n",
        "print(\"Rowwise Mean of the entire Matrix A: \" + str(np.median(A, axis = 1)))"
      ],
      "execution_count": 35,
      "outputs": [
        {
          "output_type": "stream",
          "name": "stdout",
          "text": [
            "1.19.5\n"
          ]
        }
      ]
    },
    {
      "cell_type": "code",
      "metadata": {
        "colab": {
          "base_uri": "https://localhost:8080/"
        },
        "id": "YSHtoliFoSSn",
        "outputId": "3e1cd1fc-1bd6-4902-e4dc-a9528dcf70e5"
      },
      "source": [
        "def grouped_mean(A):\n",
        "  n = len(A)\n",
        "  Sum = 0\n",
        "  F = 0\n",
        "  for i in range(n):\n",
        "    Sum = Sum + ((A[i][0] + A[i][1])/2)*A[i][2]\n",
        "    F = F + A[i][2]\n",
        "  Mean = Sum/F\n",
        "  return Mean\n",
        "\n",
        "def grouped_median(A):\n",
        "  n=len(A)\n",
        "  N=0\n",
        "  for i in range(n):\n",
        "    N=N+A[i][2]\n",
        "    if i==0:\n",
        "      A[i][3]=A[i][2]\n",
        "    else:\n",
        "      A[i][3]=A[i][2]+A[i-1][3]\n",
        "  m=A[i][3]/2\n",
        "  for i in range(n-1):\n",
        "    if A[i][3]< m <=A[i+1][3]:\n",
        "      print(\"Median Class is \"+str(A[i+1][0])+\"-\"+str(A[i+1][1]))\n",
        "      L=A[i+1][0]\n",
        "      IW=A[i+1][1]-A[i+1][0]\n",
        "      CF=A[i][3]\n",
        "      F=A[i+1][2]\n",
        "      Median= L+(m-CF)*IW/F\n",
        "      break;\n",
        "  return Median\n",
        "\n",
        "print(grouped_mean(A))\n",
        "print(grouped_median(A))"
      ],
      "execution_count": 42,
      "outputs": [
        {
          "output_type": "stream",
          "name": "stdout",
          "text": [
            "2.4423684210526315\n",
            "Median Class is 2.0-2.99\n",
            "2.5775\n"
          ]
        }
      ]
    }
  ]
}